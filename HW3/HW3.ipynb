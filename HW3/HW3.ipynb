{
 "cells": [
  {
   "cell_type": "code",
   "execution_count": 1,
   "metadata": {},
   "outputs": [
    {
     "name": "stdout",
     "output_type": "stream",
     "text": [
      "run length   ones   zeros\n",
      "    9        4       1\n",
      "    8        0       1\n",
      "    7        0       1\n",
      "    6        0       0\n",
      "    5        0       0\n",
      "    4        0       1\n",
      "    3        0       0\n",
      "    2        0       0\n",
      "    1        0       0\n",
      "    0        0       0\n"
     ]
    }
   ],
   "source": [
    "import numpy as np\n",
    "\n",
    "DATA = \"1000000101000100\"\n",
    "\n",
    "def random_test(DATA):\n",
    "    DATA2 = [int(i) for i in DATA]\n",
    "    DATA3 = [abs(1-int(i)) for i in DATA]\n",
    "    \n",
    "    num = [int(i) for i in range(10,0,-1)]\n",
    "    num1 = [int(i) for i in range(-5,15,1)]\n",
    "    data_1 = [0]*10\n",
    "    data_0 = [0]*10\n",
    "    \n",
    "    for j in range(len(num)):\n",
    "        for i in range(0,len(DATA2)):\n",
    "            if sum(DATA2[i:i+num[j]]) == num[j]: \n",
    "                data_1[j]+=1\n",
    "            \n",
    "    for j in range(len(num)):\n",
    "        for i in range(0,len(DATA3)):\n",
    "            if sum(DATA3[i:i+num[j]]) == num[j]: \n",
    "                data_0[j]+=1 \n",
    "                \n",
    "    for i in range(0,9):\n",
    "        res = np.sum(np.multiply(num1[i+7:6:-1],data_1[0:i+1]))\n",
    "        data_1[i+1] = data_1[i+1] - res\n",
    "    \n",
    "    for i in range(0,9):\n",
    "        res = np.sum(np.multiply(num1[i+7:6:-1],data_0[0:i+1]))\n",
    "        data_0[i+1] = data_0[i+1] - res\n",
    " \n",
    "    print('run length   ones   zeros')\n",
    "    for i in range(9,-1,-1):\n",
    "        print('   ',i,'      ',data_1[i],'     ',data_0[i])\n",
    "        \n",
    "random_test(DATA)"
   ]
  },
  {
   "cell_type": "code",
   "execution_count": null,
   "metadata": {},
   "outputs": [],
   "source": []
  }
 ],
 "metadata": {
  "kernelspec": {
   "display_name": "Python 3",
   "language": "python",
   "name": "python3"
  },
  "language_info": {
   "codemirror_mode": {
    "name": "ipython",
    "version": 3
   },
   "file_extension": ".py",
   "mimetype": "text/x-python",
   "name": "python",
   "nbconvert_exporter": "python",
   "pygments_lexer": "ipython3",
   "version": "3.7.1"
  }
 },
 "nbformat": 4,
 "nbformat_minor": 4
}
