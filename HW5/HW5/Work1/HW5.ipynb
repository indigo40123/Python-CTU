{
 "cells": [
  {
   "cell_type": "code",
   "execution_count": null,
   "metadata": {
    "scrolled": true
   },
   "outputs": [
    {
     "name": "stdout",
     "output_type": "stream",
     "text": [
      " * Serving Flask app \"__main__\" (lazy loading)\n",
      " * Environment: production\n",
      "   WARNING: This is a development server. Do not use it in a production deployment.\n",
      "   Use a production WSGI server instead.\n",
      " * Debug mode: off\n"
     ]
    },
    {
     "name": "stderr",
     "output_type": "stream",
     "text": [
      " * Running on http://127.0.0.1:5000/ (Press CTRL+C to quit)\n",
      "127.0.0.1 - - [27/Mar/2021 10:51:13] \"\u001b[37mGET / HTTP/1.1\u001b[0m\" 200 -\n",
      "127.0.0.1 - - [27/Mar/2021 10:51:15] \"\u001b[37mPOST / HTTP/1.1\u001b[0m\" 200 -\n"
     ]
    }
   ],
   "source": [
    "from datetime import datetime\n",
    "\n",
    "from flask import Flask, redirect, render_template, url_for, request, session, flash\n",
    "from flask_sqlalchemy import SQLAlchemy \n",
    "from flask_wtf import FlaskForm, CsrfProtect\n",
    "from wtforms import StringField, IntegerField, validators\n",
    "from wtforms.validators import ValidationError, DataRequired, Length, InputRequired, AnyOf, Regexp\n",
    "from flask_bootstrap import Bootstrap\n",
    "\n",
    "app = Flask(__name__)\n",
    "app.config['SQLALCHEMY_DATABASE_URI'] = 'sqlite:///users.sqlite3'\n",
    "app.config['SQLALCHEMY_TRACK_MODIFICATIONS'] =  False\n",
    "app.secret_key = \"hello\"\n",
    "\n",
    "db = SQLAlchemy(app)\n",
    "Bootstrap(app)\n",
    "\n",
    "class users(db.Model):\n",
    "    _id = db.Column(\"id\", db.Integer, primary_key=True)\n",
    "    item = db.Column(db.String(255))\n",
    "    quantity = db.Column(db.Integer)\n",
    "    \n",
    "    def __init__(self, item, quantity):\n",
    "        self.item = item\n",
    "        self.quantity = quantity\n",
    "        \n",
    "class LoginForm(FlaskForm):\n",
    "    username = StringField('Item', [validators.Length(min=3, max=255), validators.Regexp('[0-9A-Za-z_]+'), validators.DataRequired('Key an Item')], default='Apple')\n",
    "    numbers = StringField('Numbers', [validators.Length(min=0, max=255), validators.Regexp('[0-999]+'), validators.DataRequired('Min is 0, Max is 999')], default='1')\n",
    "    \n",
    "@app.route('/', methods=[\"POST\",\"GET\"])\n",
    "def login():\n",
    "    form = LoginForm()\n",
    "    form.validate()\n",
    "    quan = None\n",
    "    item = None\n",
    "    if request.method == \"POST\":\n",
    "        quan = form.numbers.data\n",
    "        item = form.username.data\n",
    "        session[\"quan\"] = quan\n",
    "        session[\"item\"] = item\n",
    "        usr = users(item, quan)\n",
    "        \n",
    "        found_user =users.query.filter_by(item =item).first()\n",
    "        if found_user:\n",
    "            found_user.quantity = int(quan) + int(found_user.quantity)\n",
    "            db.session.commit()\n",
    "        \n",
    "        else:\n",
    "            usr = users(item, quan)\n",
    "            db.session.add(usr)\n",
    "            db.session.commit()  \n",
    "\n",
    "        flash(f\"You add {form.numbers.data} {form.username.data} in warehouse\" , \"info\")\n",
    "        return render_template(\"login.html\", form=form, values=users.query.all())\n",
    "    else :\n",
    "        return render_template(\"login.html\", form=form, values=users.query.all())\n",
    "\n",
    "\n",
    "if __name__ == \"__main__\":\n",
    "    db.create_all()\n",
    "    app.run()\n"
   ]
  },
  {
   "cell_type": "code",
   "execution_count": null,
   "metadata": {},
   "outputs": [],
   "source": []
  },
  {
   "cell_type": "code",
   "execution_count": null,
   "metadata": {},
   "outputs": [],
   "source": []
  },
  {
   "cell_type": "code",
   "execution_count": null,
   "metadata": {},
   "outputs": [],
   "source": []
  }
 ],
 "metadata": {
  "kernelspec": {
   "display_name": "Python 3",
   "language": "python",
   "name": "python3"
  },
  "language_info": {
   "codemirror_mode": {
    "name": "ipython",
    "version": 3
   },
   "file_extension": ".py",
   "mimetype": "text/x-python",
   "name": "python",
   "nbconvert_exporter": "python",
   "pygments_lexer": "ipython3",
   "version": "3.7.1"
  }
 },
 "nbformat": 4,
 "nbformat_minor": 4
}
