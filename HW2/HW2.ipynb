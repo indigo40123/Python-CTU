{
 "cells": [
  {
   "cell_type": "code",
   "execution_count": 215,
   "metadata": {},
   "outputs": [
    {
     "name": "stdout",
     "output_type": "stream",
     "text": [
      "Number of games:  1000\n",
      "A:  172\n",
      "B:  671\n",
      "T:  157\n"
     ]
    }
   ],
   "source": [
    "import random\n",
    "\n",
    "class Result():\n",
    "   \n",
    "    def __init__(self,N): \n",
    "        self.iteration = N\n",
    "        self.A = 0\n",
    "        self.B = 0\n",
    "        self.T = 0\n",
    "        for i in range(N):\n",
    "            self.result(self.A_choice(), self.B_choice())\n",
    "        \n",
    "    def A_choice(self):\n",
    "        probA = random.uniform(0, 1) # return float 0-1\n",
    "        A_norm = PLAYER_A['paper']+PLAYER_A['scissors']+PLAYER_A['rock']\n",
    "        if probA < (PLAYER_A['paper']/A_norm):\n",
    "            return (0)\n",
    "        elif (PLAYER_A['paper']/A_norm)<probA<((PLAYER_A['paper']+PLAYER_A['scissors'])/A_norm):\n",
    "            return (1)\n",
    "        elif ((PLAYER_A['paper']+PLAYER_A['scissors'])/A_norm)<probA<1:\n",
    "            return (2)\n",
    "    def B_choice(self):\n",
    "        probB = random.uniform(0, 1) # return float 0-1\n",
    "        B_norm = PLAYER_B['paper']+PLAYER_B['scissors']+PLAYER_B['rock']\n",
    "        if probB < (PLAYER_B['paper']/B_norm):\n",
    "            return (0)\n",
    "        elif (PLAYER_B['paper']/B_norm)<probB<((PLAYER_B['paper']+PLAYER_B['scissors'])/B_norm):\n",
    "            return (1)\n",
    "        elif ((PLAYER_B['paper']+PLAYER_B['scissors'])/B_norm)<probB<1:\n",
    "            return (2)\n",
    "    def result(self, A_cho, B_cho):\n",
    "        if A_cho==B_cho:\n",
    "            self.T += 1\n",
    "        elif A_cho==0 and B_cho==2 or A_cho==1 and B_cho==0 or A_cho==2 and B_cho==1:\n",
    "            self.A += 1\n",
    "        elif A_cho==2 and B_cho==0 or A_cho==0 and B_cho==1 or A_cho==1 and B_cho==2:\n",
    "            self.B += 1\n",
    "        else: print('error')\n",
    "            \n",
    "PLAYER_A = {\n",
    "    \"paper\": 0.8,\n",
    "    \"scissors\": 0.1,\n",
    "    \"rock\": 0.1,\n",
    "}\n",
    "PLAYER_B = {\n",
    "    \"paper\": 0.1,\n",
    "    \"scissors\": 0.8,\n",
    "    \"rock\": 0.1,\n",
    "}\n",
    "\n",
    "N = 1000\n",
    "\n",
    "r = Result(N)\n",
    "\n",
    "print('Number of games: ',r.iteration)\n",
    "print('A: ',r.A)\n",
    "print('B: ',r.B)\n",
    "print('T: ',r.T)\n"
   ]
  },
  {
   "cell_type": "code",
   "execution_count": null,
   "metadata": {},
   "outputs": [],
   "source": []
  }
 ],
 "metadata": {
  "kernelspec": {
   "display_name": "Python 3",
   "language": "python",
   "name": "python3"
  },
  "language_info": {
   "codemirror_mode": {
    "name": "ipython",
    "version": 3
   },
   "file_extension": ".py",
   "mimetype": "text/x-python",
   "name": "python",
   "nbconvert_exporter": "python",
   "pygments_lexer": "ipython3",
   "version": "3.7.1"
  }
 },
 "nbformat": 4,
 "nbformat_minor": 4
}
