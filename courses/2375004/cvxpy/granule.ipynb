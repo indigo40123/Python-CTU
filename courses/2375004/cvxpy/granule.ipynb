{
 "nbformat": 4,
 "nbformat_minor": 2,
 "metadata": {
  "language_info": {
   "name": "python",
   "codemirror_mode": {
    "name": "ipython",
    "version": 3
   },
   "version": "3.6.8-final"
  },
  "orig_nbformat": 2,
  "file_extension": ".py",
  "mimetype": "text/x-python",
  "name": "python",
  "npconvert_exporter": "python",
  "pygments_lexer": "ipython3",
  "version": 3,
  "kernelspec": {
   "name": "python36864bitvenvvenv58f594475b00410ba3d468097e646b70",
   "display_name": "Python 3.6.8 64-bit ('.venv': venv)"
  }
 },
 "cells": [
  {
   "cell_type": "markdown",
   "metadata": {},
   "source": [
    "# Receptura psích granulí\n",
    "\n",
    "Naším úkolem je optimalizovat složení psích granulí tak, aby bylo jejich složení co možná ekonomicky nejvýhodnější.\n",
    "\n",
    "cena surovin:\n",
    "- obilí - \\$7.5 za kg\n",
    "- mrkev - \\$9.2 za kg\n",
    "- maso - \\$60.0 za kg\n",
    "\n",
    "Dále norma zakazuje, aby podíl obilí převyšoval 45% celkového složení a granule musí alespoň z 18% obsahovat maso."
   ]
  },
  {
   "cell_type": "code",
   "execution_count": 22,
   "metadata": {},
   "outputs": [],
   "source": [
    "import cvxpy as cp"
   ]
  },
  {
   "cell_type": "code",
   "execution_count": 23,
   "metadata": {},
   "outputs": [],
   "source": [
    "grain = cp.Variable()\n",
    "carrot = cp.Variable()\n",
    "flesh = cp.Variable()"
   ]
  },
  {
   "cell_type": "code",
   "execution_count": 24,
   "metadata": {},
   "outputs": [],
   "source": [
    "prices = {\n",
    "    \"grain\": 7.5, # $ per kg\n",
    "    \"carrot\": 9.2, # $ per kg\n",
    "    \"flesh\": 60.0, # $ per kg\n",
    "}\n",
    "constraints = [\n",
    "    grain + carrot + flesh == 1.0, # all together has to be 100 %\n",
    "    grain >= 0.0, carrot >= 0.0, flesh >= 0.0, # negative % does not make sense\n",
    "    grain <= 0.45, flesh >=0.18, # norm for dog food\n",
    "]\n",
    "cost = prices[\"grain\"]*grain + prices[\"carrot\"]*carrot + prices[\"flesh\"]*flesh \n",
    "objective = cp.Minimize(cost)\n",
    "problem = cp.Problem(objective, constraints)"
   ]
  },
  {
   "cell_type": "code",
   "execution_count": 25,
   "metadata": {},
   "outputs": [
    {
     "output_type": "stream",
     "name": "stdout",
     "text": "\nECOS 2.0.7 - (C) embotech GmbH, Zurich Switzerland, 2012-15. Web: www.embotech.com/ECOS\n\nIt     pcost       dcost      gap   pres   dres    k/t    mu     step   sigma     IR    |   BT\n 0  +2.180e+01  +1.821e+01  +2e+01  1e-02  2e-01  1e+00  3e+00    ---    ---    1  1  - |  -  - \n 1  +1.764e+01  +1.720e+01  +2e+00  1e-03  3e-02  2e-01  4e-01  0.8702  3e-02   0  0  0 |  0  0\n 2  +1.761e+01  +1.759e+01  +1e-01  6e-05  2e-03  8e-03  2e-02  0.9513  8e-04   0  0  0 |  0  0\n 3  +1.758e+01  +1.758e+01  +1e-03  7e-07  2e-05  9e-05  2e-04  0.9890  2e-04   1  0  0 |  0  0\n 4  +1.758e+01  +1.758e+01  +1e-05  8e-09  2e-07  1e-06  3e-06  0.9890  1e-04   1  0  0 |  0  0\n 5  +1.758e+01  +1.758e+01  +2e-07  9e-11  2e-09  1e-08  3e-08  0.9890  1e-04   1  0  0 |  0  0\n\nOPTIMAL (within feastol=2.1e-09, reltol=9.4e-09, abstol=1.7e-07).\nRuntime: 0.000842 seconds.\n\n"
    },
    {
     "output_type": "execute_result",
     "data": {
      "text/plain": "17.579000038002548"
     },
     "metadata": {},
     "execution_count": 25
    }
   ],
   "source": [
    "problem.solve(verbose=True)"
   ]
  },
  {
   "cell_type": "code",
   "execution_count": 26,
   "metadata": {},
   "outputs": [
    {
     "output_type": "stream",
     "name": "stdout",
     "text": "Optimal dog food:\ngrain: 45.0 %\ncarrot: 37.0 %\nflesh: 18.0 %\n"
    }
   ],
   "source": [
    "print(f\"\"\" Optimal dog food:\n",
    "grain: {grain.value*100:0.1f} %\n",
    "carrot: {carrot.value*100:0.1f} %\n",
    "flesh: {flesh.value*100:0.1f} %\"\"\")"
   ]
  },
  {
   "cell_type": "code",
   "execution_count": null,
   "metadata": {},
   "outputs": [],
   "source": []
  },
  {
   "cell_type": "code",
   "execution_count": null,
   "metadata": {},
   "outputs": [],
   "source": []
  }
 ]
}