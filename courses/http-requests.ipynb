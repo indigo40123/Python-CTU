{
 "cells": [
  {
   "cell_type": "markdown",
   "metadata": {},
   "source": [
    "# HTTP requests\n",
    "In this tutorial it is covered how to make requests via HTTP protocol. \n",
    "For more informations about related stuff see:\n",
    "* <a href=\"https://en.wikipedia.org/wiki/Hypertext_Transfer_Protocol\">Hypertext Transfer Protocol (HTTP)</a>\n",
    "* <a href=\"https://en.wikipedia.org/wiki/JSON\">JavaScript Object Notation</a>\n",
    "* <a href=\"https://en.wikipedia.org/wiki/HTML\">HyperText Markup Language (HTML)</a>\n",
    "\n",
    "Keep in mind, that in this tutorial we work only with a static content. How to obtain web dynamic content is not covered in this tutorial. If you want to deal with dynamic content, study <a href=\"http://selenium-python.readthedocs.io/\">Selenium Python Bindings</a>.\n",
    "\n",
    "## Get HTML page content\n",
    "In this section there are examples how to get HTTP response with two different libraries:\n",
    "* <a href=\"https://docs.python.org/3.4/library/urllib.html?highlight=urllib\">urllib</a> (standard library in Python 3)\n",
    "* <a href=\"http://docs.python-requests.org/en/master/\">Requests</a> (instalable through pip)\n",
    "\n",
    "In this tutorial is used the Requests library as a prefered option.\n",
    "\n",
    "### Urlib2 library\n",
    "Example how to get static content of web page with Urlib2 follows:"
   ]
  },
  {
   "cell_type": "code",
   "execution_count": 1,
   "metadata": {},
   "outputs": [
    {
     "name": "stdout",
     "output_type": "stream",
     "text": [
      "Status code: 200\n"
     ]
    }
   ],
   "source": [
    "from urllib.request import urlopen\n",
    "\n",
    "r = urlopen('https://www.python.org')\n",
    "data = r.read()\n",
    "\n",
    "print(\"Status code:\", r.getcode())"
   ]
  },
  {
   "cell_type": "markdown",
   "metadata": {},
   "source": [
    "The variable `data` contains returned HTML code (full page) as string. You can process it, save it, or do anything else you need.\n",
    "\n",
    "### Requests\n",
    "Example how to get static content of web page with Requests follows."
   ]
  },
  {
   "cell_type": "code",
   "execution_count": 2,
   "metadata": {},
   "outputs": [
    {
     "name": "stdout",
     "output_type": "stream",
     "text": [
      "Status code: 200\n"
     ]
    }
   ],
   "source": [
    "import requests\n",
    "\n",
    "r = requests.get(\"http://www.python.org/\")\n",
    "data = r.text\n",
    "\n",
    "print(\"Status code:\", r.status_code)"
   ]
  },
  {
   "cell_type": "markdown",
   "metadata": {},
   "source": [
    "## Get JSON data from an API\n",
    "This task is demonstrated on Open Notify - an open source project that provides a simple programming interface for some of NASA’s awesome data.\n",
    "\n",
    "The examples bellow cover how to obtain current possition of ISS. With Requests library it is possible to get the JSON from the API in the same way as HTML data."
   ]
  },
  {
   "cell_type": "code",
   "execution_count": 3,
   "metadata": {},
   "outputs": [
    {
     "name": "stdout",
     "output_type": "stream",
     "text": [
      "{'message': 'success', 'timestamp': 1583662708, 'iss_position': {'longitude': '21.9705', 'latitude': '-36.6860'}}\n"
     ]
    }
   ],
   "source": [
    "import requests\n",
    "\n",
    "r = requests.get(\"http://api.open-notify.org/iss-now.json\")\n",
    "obj = r.json()\n",
    "\n",
    "print(obj)"
   ]
  },
  {
   "cell_type": "markdown",
   "metadata": {},
   "source": [
    "The Requests function `json()` convert the json response to Python dictionary. In next code block is demonstrated how to get data from obtained response.\n",
    "\n",
    "## Persistent session with Requests\n",
    "Session with Requests are handy for cases where you need to use same cookies (session cookies for example) or authentication for multiple requests."
   ]
  },
  {
   "cell_type": "code",
   "execution_count": 4,
   "metadata": {},
   "outputs": [
    {
     "name": "stdout",
     "output_type": "stream",
     "text": [
      "No cookies on start: \n",
      "{}\n",
      "\n",
      "A cookie from google: \n",
      "{'1P_JAR': '2020-03-08-10', 'NID': '199=Pq8zXfnkq07VcE348DKyPc0VlD75cYmvsyJh30wT3kwopTYvLLUoEtNfxVCLrltADzavceqrhXayk2ZOaBnpM6kCTdBNce--WRiDqRpTpzkt28YlrRK_ObJLRPNR4h6MUdm46exrDZILZCGpDICnrENZouMXrorhgrMzVQbj_k0'}\n",
      "\n",
      "The cookie is perstent:\n",
      "{'1P_JAR': '2020-03-08-10', 'NID': '199=Pq8zXfnkq07VcE348DKyPc0VlD75cYmvsyJh30wT3kwopTYvLLUoEtNfxVCLrltADzavceqrhXayk2ZOaBnpM6kCTdBNce--WRiDqRpTpzkt28YlrRK_ObJLRPNR4h6MUdm46exrDZILZCGpDICnrENZouMXrorhgrMzVQbj_k0'}\n"
     ]
    }
   ],
   "source": [
    "s = requests.Session()\n",
    "print(\"No cookies on start: \")\n",
    "print(dict(s.cookies))\n",
    "r = s.get('http://google.cz/')\n",
    "print(\"\\nA cookie from google: \")\n",
    "print(dict(s.cookies))\n",
    "r = s.get('http://google.cz/?q=cat')\n",
    "print(\"\\nThe cookie is perstent:\")\n",
    "print(dict(s.cookies))"
   ]
  },
  {
   "cell_type": "markdown",
   "metadata": {},
   "source": [
    "Compare the output of the code above, with the example bellow."
   ]
  },
  {
   "cell_type": "code",
   "execution_count": 5,
   "metadata": {},
   "outputs": [
    {
     "name": "stdout",
     "output_type": "stream",
     "text": [
      "\n",
      "A cookie from google: \n",
      "{'1P_JAR': '2020-03-08-10', 'NID': '199=SpF_KIpxFYUsna2txr594XyQe2Vx3uMRHM-mOE0vmsHAarlKG1ZwU10KUda5kZU_q-zxnFb_cAKnpts2_KLu1CIkRTN1BYrgt2CFdO1NwgJCIAmqwsgYIMHcc7UDp5VD9_WGhXxmAioramZfz3IjWha1evxgPwcOuvJLb__yZT0'}\n",
      "\n",
      "Different cookie:\n",
      "{'1P_JAR': '2020-03-08-10', 'NID': '199=kakq6xgwOJn0xDWpr1qnMtpxKHozBAqrM0rAeKCHX5MiK8jUowIxs3u2HKDgBDf4qkv63hWS6aAJ1w6nZkm6o6VT8nDAEEp5k1486IbgFXKVQz9e4qzP43F22gRDimw09D5xpEdJAhavodkkRgHOzHPatw9k4GBHS2AsS_yDyhM'}\n"
     ]
    }
   ],
   "source": [
    "r = requests.get('http://google.cz/')\n",
    "print(\"\\nA cookie from google: \")\n",
    "print(dict(r.cookies))\n",
    "r = requests.get('http://google.cz/?q=cat')\n",
    "print(\"\\nDifferent cookie:\")\n",
    "print(dict(r.cookies))"
   ]
  },
  {
   "cell_type": "markdown",
   "metadata": {},
   "source": [
    "## Custom headers\n",
    "Headers of the response are easy to check, example follows."
   ]
  },
  {
   "cell_type": "code",
   "execution_count": 6,
   "metadata": {},
   "outputs": [
    {
     "name": "stdout",
     "output_type": "stream",
     "text": [
      "{'Server': 'nginx', 'Content-Type': 'text/html; charset=utf-8', 'X-Frame-Options': 'DENY', 'Via': '1.1 vegur, 1.1 varnish, 1.1 varnish', 'Content-Length': '48852', 'Accept-Ranges': 'bytes', 'Date': 'Sun, 08 Mar 2020 10:18:38 GMT', 'Age': '3282', 'Connection': 'keep-alive', 'X-Served-By': 'cache-bwi5148-BWI, cache-vie21636-VIE', 'X-Cache': 'HIT, HIT', 'X-Cache-Hits': '1, 3', 'X-Timer': 'S1583662718.086049,VS0,VE0', 'Vary': 'Cookie', 'Strict-Transport-Security': 'max-age=63072000; includeSubDomains'}\n"
     ]
    }
   ],
   "source": [
    "r = requests.get(\"http://www.python.org/\")\n",
    "print(r.headers)"
   ]
  },
  {
   "cell_type": "markdown",
   "metadata": {},
   "source": [
    "The request headers can be modified in simple way as follows."
   ]
  },
  {
   "cell_type": "code",
   "execution_count": 7,
   "metadata": {},
   "outputs": [
    {
     "name": "stdout",
     "output_type": "stream",
     "text": [
      "200\n"
     ]
    }
   ],
   "source": [
    "headers = {\n",
    "    \"Accept\": \"text/plain\",\n",
    "}\n",
    "\n",
    "r = requests.get(\"http://www.python.org/\", headers=headers)\n",
    "print(r.status_code)"
   ]
  },
  {
   "cell_type": "markdown",
   "metadata": {},
   "source": [
    "More information about HTTP headers can be found at <a href=\"https://en.wikipedia.org/wiki/List_of_HTTP_header_fields\">List of HTTP header fields wikipedia page</a>."
   ]
  }
 ],
 "metadata": {
  "kernelspec": {
   "display_name": "Python 3",
   "language": "python",
   "name": "python3"
  },
  "language_info": {
   "codemirror_mode": {
    "name": "ipython",
    "version": 3
   },
   "file_extension": ".py",
   "mimetype": "text/x-python",
   "name": "python",
   "nbconvert_exporter": "python",
   "pygments_lexer": "ipython3",
   "version": "3.7.3"
  }
 },
 "nbformat": 4,
 "nbformat_minor": 2
}
