{
 "cells": [
  {
   "cell_type": "code",
   "execution_count": 5,
   "metadata": {},
   "outputs": [
    {
     "name": "stdout",
     "output_type": "stream",
     "text": [
      "oheel\n"
     ]
    }
   ],
   "source": [
    "MESSAGE = \"hello\"\n",
    "TABLE = 'helo'\n",
    "KEY = -5\n",
    "Ceaser = []\n",
    "\n",
    "for i in range(len(MESSAGE)):\n",
    "    Index = TABLE.index(MESSAGE[i])\n",
    "    New_Index = (Index+KEY)\n",
    "    if New_Index > len(MESSAGE):\n",
    "        Ceaser.append(TABLE[New_Index%(len(TABLE))])\n",
    "    elif New_Index < 0:\n",
    "        Ceaser.append(TABLE[New_Index%(len(TABLE))])\n",
    "    else:\n",
    "        Ceaser.append(TABLE[New_Index])\n",
    "        \n",
    "Ceaser2 = [''.join(Ceaser[:])]\n",
    "print(*Ceaser2)"
   ]
  },
  {
   "cell_type": "code",
   "execution_count": null,
   "metadata": {},
   "outputs": [],
   "source": []
  }
 ],
 "metadata": {
  "kernelspec": {
   "display_name": "Python 3",
   "language": "python",
   "name": "python3"
  },
  "language_info": {
   "codemirror_mode": {
    "name": "ipython",
    "version": 3
   },
   "file_extension": ".py",
   "mimetype": "text/x-python",
   "name": "python",
   "nbconvert_exporter": "python",
   "pygments_lexer": "ipython3",
   "version": "3.7.1"
  }
 },
 "nbformat": 4,
 "nbformat_minor": 4
}
